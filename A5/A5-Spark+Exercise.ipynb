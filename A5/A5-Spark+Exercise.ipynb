{
 "cells": [
  {
   "cell_type": "markdown",
   "metadata": {},
   "source": [
    "# A5-Spark Exercise\n",
    "Ilia Ozhmegov"
   ]
  },
  {
   "cell_type": "markdown",
   "metadata": {
    "ExecuteTime": {
     "end_time": "2020-02-08T12:26:23.304354Z",
     "start_time": "2020-02-08T12:26:21.733Z"
    }
   },
   "source": [
    "## Import Required Libraries\n"
   ]
  },
  {
   "cell_type": "code",
   "execution_count": 1,
   "metadata": {
    "ExecuteTime": {
     "end_time": "2020-02-08T12:37:35.556407Z",
     "start_time": "2020-02-08T12:36:40.469Z"
    },
    "collapsed": true
   },
   "outputs": [],
   "source": [
    "from pyspark import SparkConf\n",
    "from pyspark import SparkContext"
   ]
  },
  {
   "cell_type": "markdown",
   "metadata": {},
   "source": [
    "## Word Count"
   ]
  },
  {
   "cell_type": "code",
   "execution_count": 2,
   "metadata": {
    "ExecuteTime": {
     "end_time": "2020-02-08T12:38:53.535040Z",
     "start_time": "2020-02-08T12:38:51.346Z"
    },
    "collapsed": true
   },
   "outputs": [],
   "source": [
    "# load the text file\n",
    "text_file = sc.textFile(\"/shared/t8.shakespeare.txt\")"
   ]
  },
  {
   "cell_type": "code",
   "execution_count": 3,
   "metadata": {
    "ExecuteTime": {
     "end_time": "2020-02-08T12:38:55.867068Z",
     "start_time": "2020-02-08T12:38:56.059Z"
    }
   },
   "outputs": [],
   "source": [
    "counts = (text_file.flatMap(lambda line: line.lower().split())\n",
    "                   .map(lambda key: (key, 1))\n",
    "                   .reduceByKey(lambda i, j: i + j))"
   ]
  },
  {
   "cell_type": "code",
   "execution_count": 4,
   "metadata": {
    "ExecuteTime": {
     "end_time": "2020-02-08T12:39:05.810595Z",
     "start_time": "2020-02-08T12:38:59.331Z"
    }
   },
   "outputs": [
    {
     "name": "stdout",
     "output_type": "stream",
     "text": [
      "4: ('to', 18656)\n",
      "5: ('of', 17958)1: ('the', 27486)\n",
      "2: ('and', 25994)\n",
      "3: ('i', 19540)\n",
      "6: ('a', 14365)\n",
      "7: ('my', 12455)\n",
      "8: ('in', 10660)\n",
      "9: ('that', 10474)\n",
      "11: : ('you', 10597)\n",
      "10('is', 9117)12: ('for', 7951)\n",
      "13: ('with', 7924)\n",
      "14: ('not', 7634)\n",
      "15: ('your', 6862)\n",
      "16: ('his', 6749)\n",
      "17: ('be', 6685)\n",
      "18: ('he', 5884)\n",
      "19: ('but', 5881)\n",
      "20: ('as', 5876)\n",
      "21: ('this', 5860)\n",
      "22: ('it', 5858)\n",
      "23: ('have', 5675)\n",
      "24: ('thou', 5138)\n",
      "25: ('me', 4851)"
     ]
    },
    {
     "data": {
      "text/plain": [
       "[None, None, None, None, None, None, None, None, None, None, None, None, None, None, None, None, None, None, None, None, None, None, None, None, None]"
      ]
     },
     "execution_count": 4,
     "metadata": {},
     "output_type": "execute_result"
    }
   ],
   "source": [
    "# top 25 words\n",
    "top = counts.takeOrdered(25, key=lambda x: -x[1])\n",
    "[print(i+1, item, sep=\": \") for i,item in enumerate(top)]"
   ]
  },
  {
   "cell_type": "markdown",
   "metadata": {
    "ExecuteTime": {
     "start_time": "2020-02-08T12:34:31.890Z"
    }
   },
   "source": [
    "## 1.The 24th most used word in Shakespeare's writings"
   ]
  },
  {
   "cell_type": "code",
   "execution_count": 5,
   "metadata": {
    "ExecuteTime": {
     "end_time": "2020-02-08T12:39:37.903732Z",
     "start_time": "2020-02-08T12:39:38.142Z"
    }
   },
   "outputs": [
    {
     "name": "stdout",
     "output_type": "stream",
     "text": [
      "('thou', 5138)\n"
     ]
    }
   ],
   "source": [
    "print(top[23])"
   ]
  },
  {
   "cell_type": "markdown",
   "metadata": {},
   "source": [
    "## 2. What installation did you worked with? Where there any obstacles?"
   ]
  },
  {
   "cell_type": "markdown",
   "metadata": {},
   "source": [
    "Firstly, I have tried to launch all natively (`brew install *`) or (`wget`, `tar`, `mv` , **changing path environment variables**) on my OSX machine and I have succeeded. \n",
    "To be more accurate I have launched `pyspark` and `spark-shell`, but when \n",
    "I decided to test it with a real-world task from a tutorial about `pyspark` \n",
    "an errror came up that meant I have the wrong JVM, ok I uninstalled jvm13 and\n",
    "installed jvm8 (according to the stackoverflow), but I didn't change path environment variables, \n",
    "because osx has diffrent pathes compared with any linux. It was the last drop. So I decided to use vagrant.\n",
    "\n",
    "So I used vagrant, because it was extremely easy to find a box, which already has\n",
    "all essential and compatible software. And it was a way faster, than installing everything\n",
    "from a scratch on a less friendly os than linux. \n",
    "```\n",
    "$ vagrant init fscm/spark-jupyter\n",
    "```\n",
    "Then, as usual\n",
    "```\n",
    "$ vagrant up; vagrant ssh \n",
    "```\n",
    "The last command to place all created files in a shared folder.\n",
    "Eventually, I opened jupyter notebook in a web-broser and finished the task."
   ]
  },
  {
   "cell_type": "markdown",
   "metadata": {
    "ExecuteTime": {
     "start_time": "2020-02-08T13:13:48.111Z"
    }
   },
   "source": [
    "## Conclusion 1: nothing but linux "
   ]
  },
  {
   "cell_type": "markdown",
   "metadata": {},
   "source": [
    "## Conclusion 2: why should I every time install everything from a scratch if we have Vagrant"
   ]
  },
  {
   "cell_type": "markdown",
   "metadata": {
    "ExecuteTime": {
     "start_time": "2020-02-08T13:16:18.100Z"
    }
   },
   "source": [
    "## Conclusion 3: Apache Spark is a really good technology that allows to reduce computational time significantly, because of multithreading even if you use it on a standalone machine"
   ]
  },
  {
   "cell_type": "markdown",
   "metadata": {},
   "source": [
    "The file after deleting the heading has 124212 lines, it took 6.48 seconds on my machine to find top 25 of the most used words. That is amazing! I will definitely continue to learn this technology."
   ]
  },
  {
   "cell_type": "code",
   "execution_count": null,
   "metadata": {
    "collapsed": true
   },
   "outputs": [],
   "source": []
  }
 ],
 "metadata": {
  "kernelspec": {
   "display_name": "Python 2",
   "language": "python",
   "name": "python2"
  },
  "language_info": {
   "codemirror_mode": {
    "name": "ipython",
    "version": 2
   },
   "file_extension": ".py",
   "mimetype": "text/x-python",
   "name": "python",
   "nbconvert_exporter": "python",
   "pygments_lexer": "ipython2",
   "version": "2.7.17"
  }
 },
 "nbformat": 4,
 "nbformat_minor": 2
}
